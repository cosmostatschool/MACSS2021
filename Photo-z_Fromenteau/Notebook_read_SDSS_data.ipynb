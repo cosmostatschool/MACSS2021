{
 "cells": [
  {
   "cell_type": "markdown",
   "metadata": {},
   "source": [
    "## Get photometric informations for the objects"
   ]
  },
  {
   "cell_type": "code",
   "execution_count": 1,
   "metadata": {},
   "outputs": [],
   "source": [
    "##### The idea of this notebook is to select red galaxies from SDSS\n",
    "from astroquery.sdss import SDSS      \n",
    "from astropy import coordinates as coords\n",
    "import astropy.units as u\n",
    "from astropy.io import fits\n",
    "import astropy as ap\n",
    "### import the matplotlib library we need to do the plots\n",
    "import matplotlib.pyplot as plt\n",
    "### command specific to notebooks to force the plots to be include in the below part of each instruction block\n",
    "%matplotlib inline\n",
    "import numpy as np"
   ]
  },
  {
   "cell_type": "code",
   "execution_count": 2,
   "metadata": {},
   "outputs": [
    {
     "name": "stdout",
     "output_type": "stream",
     "text": [
      "       ra              dec               objid        ...  run2d  instrument\n",
      "---------------- ---------------- ------------------- ... ------- ----------\n",
      "1.32739464037508 14.5509733427592 1237652942639005818 ...      26       SDSS\n",
      " 1.3989260430526 14.4917926027716 1237652942639005868 ...      26       SDSS\n",
      "1.53633163147941 14.5029189285021 1237652942639071373 ...      26       SDSS\n",
      "1.66335200267287 14.3656003155554 1237652942639136816 ...      26       SDSS\n",
      "1.81708927189652 14.4273648632936 1237652942639202456 ...      26       SDSS\n",
      " 1.8572585665313 14.4166103415052 1237652942639202503 ...      26       SDSS\n",
      "1.88090101417839 14.4272692971625 1237652942639202514 ...      26       SDSS\n",
      "1.90862186883498 14.4979533812826 1237652942639267859 ...      26       SDSS\n",
      "1.96758877751222 14.5068694506462 1237652942639267883 ...      26       SDSS\n",
      " 1.9849135280773 14.3962586428697 1237652942639267897 ...      26       SDSS\n",
      "             ...              ...                 ... ...     ...        ...\n",
      "1.33989834696598 14.7452530587304 1237656495114224423 ... v5_10_0       BOSS\n",
      "1.56328347642193 15.6198743029271 1237652944249749938 ... v5_10_0       BOSS\n",
      "1.83588430245391 15.2246253201323 1237652943712944956 ... v5_10_0       BOSS\n",
      "1.67659545627237 15.1920809851016 1237652943712878948 ... v5_10_0       BOSS\n",
      "1.44285584534776 15.3578930045221 1237652943712813321 ... v5_10_0       BOSS\n",
      "1.22958193400075 15.3499874274824 1237652943712682708 ... v5_10_0       BOSS\n",
      "1.19667664379449 15.2272618443479 1237652943712682628 ... v5_10_0       BOSS\n",
      "1.29315193849823 14.8327432844255 1237652943175877037 ... v5_10_0       BOSS\n",
      "1.20252968551648 14.7618335814326 1237652943175811255 ... v5_10_0       BOSS\n",
      "1.96178253382004 15.5577121278045 1237656496188227822 ... v5_10_0       BOSS\n",
      "1.85811860143571 15.4277818499887 1237656496188227995 ... v5_10_0       BOSS\n",
      "Length = 888 rows\n",
      "modelMag_g modelMag_r modelMag_i ... modelMagErr_z modelMagErr_i       z      \n",
      "---------- ---------- ---------- ... ------------- ------------- -------------\n",
      "  15.13598   15.04927   15.03364 ...   0.005302412   0.005018545 -4.115345e-05\n",
      "   15.6516   14.77063    14.2908 ...   0.004771689   0.002609249     0.0419367\n",
      "  15.71374   15.08535   14.79496 ...    0.01145237   0.004639294    0.01808515\n",
      "  15.72445    14.9514   14.52201 ...   0.004104082   0.002562667    0.04143009\n",
      "  15.88949   15.30434   15.03149 ...    0.01339853   0.007842962    0.01818746\n",
      "  16.03177    15.0113   14.54613 ...   0.005608161   0.002873415    0.07965885\n",
      "  16.04583   15.31019    14.8989 ...   0.006509411   0.003063877    0.04559058\n",
      "  16.12589   15.12846   14.58183 ...   0.004974429   0.002855266    0.05356275\n",
      "  16.20525   15.01115   14.38712 ...   0.004904553   0.002877985    0.03693221\n",
      "  16.29399   15.39494   14.93806 ...   0.006458052   0.003004943    0.04456108\n",
      "       ...        ...        ... ...           ...           ...           ...\n",
      "  23.67682   20.32157   19.21937 ...     0.1007993    0.04473586     0.5817358\n",
      "  23.76006   21.57108   20.40188 ...     0.1566514    0.05328266     0.6154246\n",
      "  23.76006   21.57108   20.40188 ...     0.1566514    0.05328266     0.6155784\n",
      "  23.97527   22.52557     21.813 ...     0.2945368     0.1471061     0.2435359\n",
      "   24.0154   21.05858   19.79386 ...     0.1365033    0.04175556     0.5965927\n",
      "  24.18155   22.56901   19.76709 ...    0.02529819    0.02486034 -0.0001428688\n",
      "  24.18155   22.56901   19.76709 ...    0.02529819    0.02486034  4.056002e-05\n",
      "  24.28855   22.34571   19.86133 ...    0.02893819    0.03348639 -6.184195e-05\n",
      "  24.28855   22.34571   19.86133 ...    0.02893819    0.03348639  7.081828e-06\n",
      "  25.06527   22.52129   20.15761 ...    0.03263773    0.03393596   4.24779e-06\n",
      "  25.12122    19.6107   19.80497 ...    0.03759986    0.04399196     0.2037821\n",
      "Length = 888 rows\n",
      "<Table length=888>\n",
      "     name      dtype \n",
      "------------- -------\n",
      "   modelMag_g float64\n",
      "   modelMag_r float64\n",
      "   modelMag_i float64\n",
      "   modelMag_u float64\n",
      "   modelMag_z float64\n",
      "         type   int64\n",
      "modelMagErr_g float64\n",
      "modelMagErr_r float64\n",
      "modelMagErr_u float64\n",
      "modelMagErr_z float64\n",
      "modelMagErr_i float64\n",
      "            z float64\n",
      "None\n"
     ]
    },
    {
     "name": "stderr",
     "output_type": "stream",
     "text": [
      "/Users/sebinouf/anaconda3/lib/python3.8/site-packages/astroquery/sdss/core.py:862: VisibleDeprecationWarning: Reading unicode strings without specifying the encoding argument is deprecated. Set the encoding, use None for the system default.\n",
      "  arr = np.atleast_1d(np.genfromtxt(io.BytesIO(response.content),\n"
     ]
    }
   ],
   "source": [
    "rad_size = 50    #### will in arcminute in our case\n",
    "\n",
    "##### if we use another system than the RA DEC in degrees, we have to convert it using this function\n",
    "pos = coords.SkyCoord('0h8m05.63s +14d50m23.3s', frame='icrs')\n",
    "\n",
    "##### Request to obtain the ID list of objects with a spectrum in the direction of \"pos\" (ra des in degrees)\n",
    "##### in the radius given in \"arcsecond or arcminute\" unit (reason why we use u.arcsec or u.arcsec, if not the\n",
    "##### the query system refuse to interpret it and return an error\n",
    "ixid = SDSS.query_region(pos, spectro=True, radius=rad_size*u.arcmin)\n",
    "\n",
    "\n",
    "#### Here we will ask for everything we want which is on the PhotoObj class we can find here:\n",
    "#### We specify that wewant objects with a spectroscopic observation associated in order to have spec-z\n",
    "#### http://cas.sdss.org/dr7/en/help/browser/description.asp?n=PhotoObj&t=V\n",
    "ph = SDSS.query_region(pos, spectro=True, radius=rad_size*u.arcmin, \n",
    "                       photoobj_fields=['modelMag_g','modelMag_r' ,'modelMag_i','modelMag_u' ,'modelMag_z',\n",
    "                                        'type', 'modelMagErr_g', 'modelMagErr_r','modelMagErr_u', 'modelMagErr_z',\n",
    "                                        'modelMagErr_i'],specobj_fields=['z'])\n",
    "\n",
    "\n",
    "\n",
    "print(ixid)\n",
    "print(ph)\n",
    "print(ph.info())"
   ]
  },
  {
   "cell_type": "markdown",
   "metadata": {},
   "source": [
    "### Exemple to read data from the ph dictionary"
   ]
  },
  {
   "cell_type": "code",
   "execution_count": 3,
   "metadata": {},
   "outputs": [],
   "source": [
    "type_obj = ph[:]['type']\n",
    "#####   type = 3   :   Galaxy\n",
    "#####   type = 6   :   Star\n",
    "##### see all the types here http://cas.sdss.org/dr7/en/help/browser/enum.asp?n=PhotoType"
   ]
  },
  {
   "cell_type": "code",
   "execution_count": 4,
   "metadata": {},
   "outputs": [
    {
     "name": "stdout",
     "output_type": "stream",
     "text": [
      "type\n",
      "----\n",
      "   6\n",
      "   3\n",
      "   3\n",
      "   3\n",
      "   3\n",
      "   3\n",
      "   3\n",
      "   3\n",
      "   3\n",
      "   3\n"
     ]
    }
   ],
   "source": [
    "print(type_obj[0:10])"
   ]
  },
  {
   "cell_type": "code",
   "execution_count": 5,
   "metadata": {},
   "outputs": [],
   "source": [
    "#### Read the magnitude in U band for all these objects\n",
    "magu = ph[:]['modelMag_u']\n",
    "#### Read the error magnitude in U band for all these objects\n",
    "erru = ph[:]['modelMagErr_u']"
   ]
  },
  {
   "cell_type": "code",
   "execution_count": null,
   "metadata": {},
   "outputs": [],
   "source": []
  }
 ],
 "metadata": {
  "kernelspec": {
   "display_name": "Python 3",
   "language": "python",
   "name": "python3"
  },
  "language_info": {
   "codemirror_mode": {
    "name": "ipython",
    "version": 3
   },
   "file_extension": ".py",
   "mimetype": "text/x-python",
   "name": "python",
   "nbconvert_exporter": "python",
   "pygments_lexer": "ipython3",
   "version": "3.8.5"
  }
 },
 "nbformat": 4,
 "nbformat_minor": 4
}
